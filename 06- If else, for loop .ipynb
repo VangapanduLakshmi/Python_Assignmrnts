{
 "cells": [
  {
   "cell_type": "markdown",
   "metadata": {},
   "source": [
    "# IF , ELSE.... FOR LOOP"
   ]
  },
  {
   "cell_type": "markdown",
   "metadata": {},
   "source": [
    "> print this is hour in current minute is odd"
   ]
  },
  {
   "cell_type": "code",
   "execution_count": 1,
   "metadata": {},
   "outputs": [
    {
     "name": "stdout",
     "output_type": "stream",
     "text": [
      "53\n",
      "This is Odd minute\n"
     ]
    }
   ],
   "source": [
    "n=int(input())\n",
    "if n%2==0:\n",
    "    print(\"This is Even minute\")\n",
    "else:\n",
    "    print(\"This is Odd minute\")"
   ]
  },
  {
   "cell_type": "markdown",
   "metadata": {},
   "source": [
    "> if today is satarday then print 'Party !!!' or if sunday print take rest other wise print work , work, work"
   ]
  },
  {
   "cell_type": "code",
   "execution_count": 2,
   "metadata": {},
   "outputs": [
    {
     "name": "stdout",
     "output_type": "stream",
     "text": [
      "Today is: Sunday\n",
      "Tack Rest\n"
     ]
    }
   ],
   "source": [
    "week_name=input(\"Today is: \")\n",
    "if(week_name==\"satarday\"):\n",
    "    print(\"Party\")\n",
    "elif(week_name==\"Sunday\"):\n",
    "    print(\"Tack Rest\")\n",
    "else:\n",
    "    print(\"work , work, work\")"
   ]
  },
  {
   "cell_type": "markdown",
   "metadata": {},
   "source": [
    "> Write a program which will find all such numbers which are divisible by 7 but are not a multiple of 5, between 2000 and 3200 (both included). The numbers obtained should be printed in a comma-separated sequence on a single line."
   ]
  },
  {
   "cell_type": "code",
   "execution_count": 6,
   "metadata": {},
   "outputs": [
    {
     "name": "stdout",
     "output_type": "stream",
     "text": [
      "2002,2009,2016,2023,2037,2044,2051,2058,2072,2079,2086,2093,2107,2114,2121,2128,2142,2149,2156,2163,2177,2184,2191,2198,2212,2219,2226,2233,2247,2254,2261,2268,2282,2289,2296,2303,2317,2324,2331,2338,2352,2359,2366,2373,2387,2394,2401,2408,2422,2429,2436,2443,2457,2464,2471,2478,2492,2499,2506,2513,2527,2534,2541,2548,2562,2569,2576,2583,2597,2604,2611,2618,2632,2639,2646,2653,2667,2674,2681,2688,2702,2709,2716,2723,2737,2744,2751,2758,2772,2779,2786,2793,2807,2814,2821,2828,2842,2849,2856,2863,2877,2884,2891,2898,2912,2919,2926,2933,2947,2954,2961,2968,2982,2989,2996,3003,3017,3024,3031,3038,3052,3059,3066,3073,3087,3094,3101,3108,3122,3129,3136,3143,3157,3164,3171,3178,3192,3199,"
     ]
    }
   ],
   "source": [
    "for i in range(2000,3201):\n",
    "    if(i%7==0 and  i%5!=0 ):\n",
    "        print(i,end=\",\")"
   ]
  },
  {
   "cell_type": "code",
   "execution_count": 14,
   "metadata": {},
   "outputs": [
    {
     "name": "stdout",
     "output_type": "stream",
     "text": [
      "2002,2009,2016,2023,2037,2044,2051,2058,2072,2079,2086,2093,2107,2114,2121,2128,2142,2149,2156,2163,2177,2184,2191,2198,2212,2219,2226,2233,2247,2254,2261,2268,2282,2289,2296,2303,2317,2324,2331,2338,2352,2359,2366,2373,2387,2394,2401,2408,2422,2429,2436,2443,2457,2464,2471,2478,2492,2499,2506,2513,2527,2534,2541,2548,2562,2569,2576,2583,2597,2604,2611,2618,2632,2639,2646,2653,2667,2674,2681,2688,2702,2709,2716,2723,2737,2744,2751,2758,2772,2779,2786,2793,2807,2814,2821,2828,2842,2849,2856,2863,2877,2884,2891,2898,2912,2919,2926,2933,2947,2954,2961,2968,2982,2989,2996,3003,3017,3024,3031,3038,3052,3059,3066,3073,3087,3094,3101,3108,3122,3129,3136,3143,3157,3164,3171,3178,3192,3199\n"
     ]
    }
   ],
   "source": [
    "#CODE HERE"
   ]
  },
  {
   "cell_type": "markdown",
   "metadata": {},
   "source": [
    "> Write a program which can compute the factorial of a given numbers.\n",
    "The results should be printed in a comma-separated sequence on a single line.\n",
    "Suppose the following input is supplied to the program:\n",
    "8\n",
    "Then, the output should be:\n",
    "40320"
   ]
  },
  {
   "cell_type": "code",
   "execution_count": 1,
   "metadata": {},
   "outputs": [
    {
     "name": "stdout",
     "output_type": "stream",
     "text": [
      "Enter the value to compute the factorial:8\n",
      "8!= 40320\n"
     ]
    }
   ],
   "source": [
    "n=int(input(\"Enter the value to compute the factorial:\"))\n",
    "fct=1\n",
    "for i in range(1,n+1):\n",
    "    fct=fct*i\n",
    "print(f'{n}!=',fct)"
   ]
  },
  {
   "cell_type": "markdown",
   "metadata": {},
   "source": [
    "> With a given integral number n, write a program to generate a dictionary that contains (i, i*i) such that is an integral number between 1 and n (both included). and then the program should print the dictionary.\n",
    "Suppose the following input is supplied to the program:\n",
    "8\n",
    "Then, the output should be:\n",
    "{1: 1, 2: 4, 3: 9, 4: 16, 5: 25, 6: 36, 7: 49, 8: 64}\n",
    "\n",
    "*Hint* : use dict()"
   ]
  },
  {
   "cell_type": "code",
   "execution_count": 6,
   "metadata": {},
   "outputs": [
    {
     "name": "stdout",
     "output_type": "stream",
     "text": [
      "Enter the value:8\n",
      "{1: 1, 2: 4, 3: 9, 4: 16, 5: 25, 6: 36, 7: 49, 8: 64}\n"
     ]
    }
   ],
   "source": [
    "n=int(input(\"Enter the value:\"))\n",
    "dic={}\n",
    "for i in range(1,n+1):\n",
    "    dic[i]=i*i\n",
    "print(dic)\n",
    "    "
   ]
  },
  {
   "cell_type": "markdown",
   "metadata": {},
   "source": [
    "> create user defined fuction for \n",
    "- addition \"add\"\n",
    "- subtraction \"sub\"\n",
    "- multiplication \"mul\"\n",
    "- division \"div\"\n",
    "- power \"pow\""
   ]
  },
  {
   "cell_type": "code",
   "execution_count": 7,
   "metadata": {},
   "outputs": [
    {
     "name": "stdout",
     "output_type": "stream",
     "text": [
      "Please enter the value : 8\n",
      "Please enter the value : 6\n",
      "Enter the keyword {'add', 'sub', 'pow', 'mul', 'div'}:pow\n",
      "==============================\n",
      "power of 8 by 6 is: 262144\n"
     ]
    }
   ],
   "source": [
    "def fun():\n",
    "    n=int(input(\"Please enter the value : \"))\n",
    "    m=int(input(\"Please enter the value : \"))\n",
    "    lst={\"add\",\"sub\",\"mul\",\"div\",\"pow\"}\n",
    "    keyword=\"pow\"\n",
    "    print(f\"Enter the keyword {set(lst)}:{keyword}\")\n",
    "    print(\"==============================\")\n",
    "    if keyword in lst:\n",
    "        print(f\"power of {n} by {m} is:\",n**m)\n",
    "fun()"
   ]
  },
  {
   "cell_type": "code",
   "execution_count": 18,
   "metadata": {},
   "outputs": [
    {
     "name": "stdout",
     "output_type": "stream",
     "text": [
      "Please enter the value : 8\n",
      "Please enter the value : 6\n",
      "Enter the keyword {add, sub, mul, div, pow}:pow\n",
      "==============================\n",
      "Power of 8 by 6 is : 262144\n"
     ]
    }
   ],
   "source": []
  },
  {
   "cell_type": "markdown",
   "metadata": {},
   "source": [
    "### Write a Python program that accepts a string and calculate the number of digits and letters.\n",
    "- Input\n",
    "\n",
    "    - Hello321Bye360\n",
    "- Output\n",
    "\n",
    "    - Digit - 6\n",
    "\n",
    "    - Letter - 8"
   ]
  },
  {
   "cell_type": "code",
   "execution_count": 5,
   "metadata": {},
   "outputs": [
    {
     "name": "stdout",
     "output_type": "stream",
     "text": [
      "ENter the text: Hello321Bye360\n",
      "Digit - 6\n",
      "Letter - 8\n"
     ]
    }
   ],
   "source": [
    "# CODE HERE\n",
    "digit_count=0\n",
    "Letter_count=0\n",
    "word = input(\"ENter the text: \")\n",
    "for i in range(len(word)):\n",
    "    if(word[i].isdigit()):  \n",
    "        digit_count+=1\n",
    "    elif(word[i].isalpha()):\n",
    "        Letter_count+=1\n",
    "print(\"Digit -\",digit_count)\n",
    "print(\"Letter -\",Letter_count)     "
   ]
  },
  {
   "cell_type": "markdown",
   "metadata": {},
   "source": [
    "### With a given tuple (1,2,3,4,5,6,7,8,9,10), write a program to print the first half values in one line and the last half values in one line."
   ]
  },
  {
   "cell_type": "code",
   "execution_count": 12,
   "metadata": {},
   "outputs": [
    {
     "name": "stdout",
     "output_type": "stream",
     "text": [
      "1 2 3 4 5 \n",
      "6 7 8 9 10 "
     ]
    }
   ],
   "source": [
    "t=(1,2,3,4,5,6,7,8,9,10)\n",
    "for i in range(len(t)//2):\n",
    "    print(t[i],end=' ')\n",
    "print()\n",
    "for i in range(len(t)//2+1,len(t)+1):\n",
    "    print(i, end=\" \")"
   ]
  },
  {
   "cell_type": "code",
   "execution_count": 19,
   "metadata": {},
   "outputs": [
    {
     "name": "stdout",
     "output_type": "stream",
     "text": [
      "(1, 2, 3, 4, 5) (6, 7, 8, 9, 10)\n"
     ]
    }
   ],
   "source": [
    "t=(1,2,3,4,5,6,7,8,9,10)\n",
    "lst=[]\n",
    "lst1=[]\n",
    "for i in range(len(t)//2):\n",
    "    lst.append(t[i])\n",
    "print(tuple(lst),end=\" \")\n",
    "for i in range(len(t)//2,len(t)):\n",
    "    lst1.append(t[i])\n",
    "print(tuple(lst1))"
   ]
  },
  {
   "cell_type": "code",
   "execution_count": 18,
   "metadata": {},
   "outputs": [
    {
     "name": "stdout",
     "output_type": "stream",
     "text": [
      "[1, 2, 3, 4, 5]\n",
      "[6, 7, 8, 9, 10]\n"
     ]
    }
   ],
   "source": [
    "t=(1,2,3,4,5,6,7,8,9,10)\n",
    "lst=[]\n",
    "lst1=[]\n",
    "for i in range(len(t)//2):\n",
    "    lst.append(t[i])\n",
    "print(lst)\n",
    "for i in range(len(t)//2,len(t)):\n",
    "    lst1.append(t[i])\n",
    "print(lst1)"
   ]
  },
  {
   "cell_type": "markdown",
   "metadata": {},
   "source": [
    "### Write a program to generate and print another tuple whose values are even numbers in the given tuple (1,2,3,4,5,6,7,8,9,10)"
   ]
  },
  {
   "cell_type": "code",
   "execution_count": 21,
   "metadata": {},
   "outputs": [
    {
     "name": "stdout",
     "output_type": "stream",
     "text": [
      "(2, 4, 6, 8, 10)\n"
     ]
    }
   ],
   "source": [
    "tuple1=(1,2,3,4,5,6,7,8,9,10)\n",
    "lst=[]\n",
    "for i in tuple1:\n",
    "    if(i%2==0):\n",
    "        lst.append(i)\n",
    "print(tuple(lst))"
   ]
  },
  {
   "cell_type": "markdown",
   "metadata": {},
   "source": [
    "### Write a program which accepts a string as input to print \"Yes\" if the string is \"yes\" or \"YES\" or \"Yes\", otherwise print \"No\""
   ]
  },
  {
   "cell_type": "code",
   "execution_count": 22,
   "metadata": {},
   "outputs": [
    {
     "name": "stdout",
     "output_type": "stream",
     "text": [
      "Please type something. --> yes\n",
      "Yes\n"
     ]
    }
   ],
   "source": [
    "text = input(\"Please type something. --> \")\n",
    "if text==\"yes\" or text==\"YES\":\n",
    "    print(\"Yes\")\n",
    "else:\n",
    "    print(\"No\")\n"
   ]
  },
  {
   "cell_type": "markdown",
   "metadata": {},
   "source": [
    "### Please write a program to generate a list with 5 random numbers between 100 and 200 inclusive."
   ]
  },
  {
   "cell_type": "code",
   "execution_count": 8,
   "metadata": {},
   "outputs": [
    {
     "name": "stdout",
     "output_type": "stream",
     "text": [
      "[113, 125, 153, 144, 149]\n"
     ]
    }
   ],
   "source": [
    "import random as rm  \n",
    "lst=rm.sample(range(100,200),5) #\n",
    "print(lst)"
   ]
  },
  {
   "cell_type": "markdown",
   "metadata": {},
   "source": [
    "### Please generate a random float where the value is between 5 and 95 using Python module."
   ]
  },
  {
   "cell_type": "code",
   "execution_count": 11,
   "metadata": {},
   "outputs": [
    {
     "data": {
      "text/plain": [
       "62.984226222388344"
      ]
     },
     "execution_count": 11,
     "metadata": {},
     "output_type": "execute_result"
    }
   ],
   "source": [
    "rm.uniform(5,95)"
   ]
  },
  {
   "cell_type": "markdown",
   "metadata": {},
   "source": [
    "### [1,1,1,1,3,3,4,4,4,5,6,7,8,8,8]\n",
    "#### 1. from the above list print the uniques values\n",
    "#### 2. count how many times each number exist\n",
    "#### 3. Print the number which is occured more number of times"
   ]
  },
  {
   "cell_type": "code",
   "execution_count": 12,
   "metadata": {},
   "outputs": [
    {
     "name": "stdout",
     "output_type": "stream",
     "text": [
      "[1, 3, 4, 5, 6, 7, 8]\n"
     ]
    }
   ],
   "source": [
    "lst=[1,1,1,1,3,3,4,4,4,5,6,7,8,8,8]\n",
    "lst1=[]\n",
    "for i in lst:\n",
    "    if i not in lst1:\n",
    "        lst1.append(i)\n",
    "print(lst1)"
   ]
  },
  {
   "cell_type": "code",
   "execution_count": 1,
   "metadata": {},
   "outputs": [
    {
     "name": "stdout",
     "output_type": "stream",
     "text": [
      "{1: 4, 3: 2, 4: 3, 5: 1, 6: 1, 7: 1, 8: 3}\n"
     ]
    }
   ],
   "source": [
    "lst=[1,1,1,1,3,3,4,4,4,5,6,7,8,8,8]\n",
    "dic={}\n",
    "count=1\n",
    "for i in range(len(lst)):\n",
    "    if lst[i] in dic:\n",
    "        count+=1\n",
    "    else:\n",
    "        count=1\n",
    "    dic[lst[i]]=count\n",
    "print(dic)"
   ]
  },
  {
   "cell_type": "code",
   "execution_count": 2,
   "metadata": {},
   "outputs": [
    {
     "data": {
      "text/plain": [
       "{1: 4, 3: 2, 4: 3, 5: 1, 6: 1, 7: 1, 8: 3}"
      ]
     },
     "execution_count": 2,
     "metadata": {},
     "output_type": "execute_result"
    }
   ],
   "source": [
    "dic"
   ]
  },
  {
   "cell_type": "code",
   "execution_count": 4,
   "metadata": {},
   "outputs": [
    {
     "name": "stdout",
     "output_type": "stream",
     "text": [
      "1\n",
      "3\n",
      "4\n",
      "8\n"
     ]
    }
   ],
   "source": [
    "for i in dic:\n",
    "    value=dic[i]\n",
    "    if(value>1):\n",
    "        print(i)\n",
    "    else:\n",
    "        continue"
   ]
  },
  {
   "cell_type": "markdown",
   "metadata": {},
   "source": [
    "# [Innomatics Research Labs](https:/innomatics.in/)\n",
    "[www.innomatics.in](https:/innomatics.in/)"
   ]
  },
  {
   "cell_type": "code",
   "execution_count": null,
   "metadata": {},
   "outputs": [],
   "source": []
  }
 ],
 "metadata": {
  "kernelspec": {
   "display_name": "Python 3 (ipykernel)",
   "language": "python",
   "name": "python3"
  },
  "language_info": {
   "codemirror_mode": {
    "name": "ipython",
    "version": 3
   },
   "file_extension": ".py",
   "mimetype": "text/x-python",
   "name": "python",
   "nbconvert_exporter": "python",
   "pygments_lexer": "ipython3",
   "version": "3.11.3"
  }
 },
 "nbformat": 4,
 "nbformat_minor": 2
}
